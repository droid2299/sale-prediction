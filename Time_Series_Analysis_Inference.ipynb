{
  "nbformat": 4,
  "nbformat_minor": 0,
  "metadata": {
    "colab": {
      "provenance": []
    },
    "kernelspec": {
      "name": "python3",
      "display_name": "Python 3"
    },
    "language_info": {
      "name": "python"
    }
  },
  "cells": [
    {
      "cell_type": "code",
      "execution_count": 1,
      "metadata": {
        "id": "O1UBYBeCj8qS"
      },
      "outputs": [],
      "source": [
        "unique_products = ['Round steak, 1 kilogram',\n",
        " 'Sirloin steak, 1 kilogram',\n",
        " 'Prime rib roast, 1 kilogram',\n",
        " 'Blade roast, 1 kilogram',\n",
        " 'Stewing beef, 1 kilogram',\n",
        " 'Ground beef, 1 kilogram',\n",
        " 'Pork chops, 1 kilogram',\n",
        " 'Butt roast, 1 kilogram',\n",
        " 'Chicken, 1 kilogram',\n",
        " 'Bacon, 500 grams',\n",
        " 'Wieners, 450 grams',\n",
        " 'Canned salmon, 213 grams',\n",
        " 'Homogenized milk, 1 litre',\n",
        " 'Partly skimmed milk, 1 litre',\n",
        " 'Butter, 454 grams',\n",
        " 'Processed cheese slices, 250 grams',\n",
        " 'Evaporated milk, 385 millilitres',\n",
        " 'Eggs, 1 dozen',\n",
        " 'Bread, 675 grams',\n",
        " 'Soda crackers, 450 grams',\n",
        " 'Macaroni, 500 grams',\n",
        " 'Flour, 2.5 kilograms',\n",
        " 'Corn flakes, 675 grams',\n",
        " 'Apples, 1 kilogram',\n",
        " 'Bananas, 1 kilogram',\n",
        " 'Grapefruits, 1 kilogram',\n",
        " 'Oranges, 1 kilogram',\n",
        " 'Apple juice, 1.36 litres',\n",
        " 'Orange juice, 1 litre',\n",
        " 'Cabbage, 1 kilogram',\n",
        " 'Carrots, 1 kilogram',\n",
        " 'Celery, 1 kilogram',\n",
        " 'Mushrooms, 1 kilogram',\n",
        " 'Onions, 1 kilogram',\n",
        " 'Potatoes, 4.54 kilograms',\n",
        " 'French fried potatoes, frozen, 1 kilogram',\n",
        " 'Baked beans, canned, 398 millilitres',\n",
        " 'Tomatoes, canned, 796 millilitres',\n",
        " 'Tomato juice, 1.36 litres',\n",
        " 'Ketchup, 1 litre',\n",
        " 'Sugar, white, 2 kilograms',\n",
        " 'Coffee, roasted, 300 grams',\n",
        " 'Coffee, instant, 200 grams',\n",
        " 'Tea (72 bags)',\n",
        " 'Cooking or salad oil, 1 litre',\n",
        " 'Soup, canned, 284 millilitres',\n",
        " 'Baby food, 128 millilitres',\n",
        " 'Peanut butter, 500 grams',\n",
        " 'Fruit flavoured crystals, 2.25 litres',\n",
        " 'Soft drinks, cola type, 2 litres',\n",
        " 'Soft drinks, lemon-lime type, 2 litres',\n",
        " 'Laundry detergent, 4 litres',\n",
        " 'Paper towels (2 rolls)',\n",
        " 'Facial tissue (200 tissues)',\n",
        " 'Bathroom tissue (4 rolls)',\n",
        " 'Shampoo, 300 millilitres',\n",
        " 'Deodorant, 60 grams',\n",
        " 'Toothpaste, 100 millilitres',\n",
        " 'Cigarettes (200)',\n",
        " 'Regular, unleaded gasoline at self-service stations, cents per litre',\n",
        " 'Homogenized milk, 4 litres',\n",
        " 'Partly skimmed milk, 4 litres']"
      ]
    },
    {
      "cell_type": "code",
      "source": [
        "def load_weights(unique_products, data_path):\n",
        "    \"\"\"\n",
        "    Load pre-trained SARIMA model weights for each unique product from the specified directory.\n",
        "\n",
        "    Parameters:\n",
        "    - unique_products (list): List of unique product names.\n",
        "    - data_path (str): Path to the directory containing the saved model weights.\n",
        "\n",
        "    Returns:\n",
        "    - dict: A dictionary containing product names and their corresponding SARIMA model weights.\n",
        "    \"\"\"\n",
        "    # Initialize an empty dictionary to store model weights\n",
        "    weights = {}\n",
        "\n",
        "    # Iterate through unique product names\n",
        "    for item in tqdm(unique_products, desc='Loading Weights'):\n",
        "        # Load the SARIMA model weight for the current product\n",
        "        weight = SARIMAXResults.load(f'{data_path}/{item}_model.pkl')\n",
        "\n",
        "        # Store the model weight in the dictionary\n",
        "        weights[item] = weight\n",
        "\n",
        "    return weights"
      ],
      "metadata": {
        "id": "KXRhYQ9hkCpw"
      },
      "execution_count": 2,
      "outputs": []
    },
    {
      "cell_type": "code",
      "source": [
        "def save_forecast_results(model_results, steps=12, last_date='2022-02-28'):\n",
        "    \"\"\"\n",
        "    Generate and save forecast results based on a time series model.\n",
        "\n",
        "    Parameters:\n",
        "    - model_results (object): The result object from a time series forecasting model.\n",
        "    - steps (int, optional): Number of steps (future time points) to forecast. Default is 12.\n",
        "    - last_date (str, optional): The last date in the historical data. Default is '2022-02-28'.\n",
        "\n",
        "    Returns:\n",
        "    - dict: A dictionary containing forecasted values for each future date.\n",
        "    \"\"\"\n",
        "    # Generate forecast based on the provided number of steps\n",
        "    forecast = model_results.get_forecast(steps=steps)\n",
        "\n",
        "    # Convert forecasted values back to the original scale\n",
        "    forecasted_values = np.exp(forecast.predicted_mean)\n",
        "\n",
        "    # Generate future dates for the forecast\n",
        "    future_dates = pd.date_range(start=last_date, periods=steps + 1, freq='M')[1:]\n",
        "\n",
        "    # Create a dictionary mapping each future date to its corresponding forecasted value\n",
        "    forecast_dict = {date.strftime(\"%b-%Y\"): value for date, value in zip(future_dates, forecasted_values)}\n",
        "\n",
        "    return forecast_dict"
      ],
      "metadata": {
        "id": "cosiqIuilBp6"
      },
      "execution_count": 3,
      "outputs": []
    },
    {
      "cell_type": "code",
      "source": [
        "import pandas as pd\n",
        "\n",
        "def get_last_date_data(data):\n",
        "    \"\"\"\n",
        "    Extract and return the data for the last date in the 'REF_DATE' column.\n",
        "\n",
        "    Parameters:\n",
        "    - data (DataFrame): The input time series data.\n",
        "\n",
        "    Returns:\n",
        "    - DataFrame: The data for the last date in the 'REF_DATE' column.\n",
        "    \"\"\"\n",
        "    # Filter data for the specific product and create a copy to avoid SettingWithCopyWarning\n",
        "    product_data = data.copy()\n",
        "\n",
        "    # Convert REF_DATE to datetime and coerce out-of-bounds dates to NaT\n",
        "    product_data['REF_DATE'] = pd.to_datetime(product_data['REF_DATE'], errors='coerce')\n",
        "\n",
        "\n",
        "    # Set REF_DATE as the index and specify the frequency\n",
        "    product_data.set_index('REF_DATE', inplace=True)\n",
        "    # product_data.index.freq = 'MS'  # Monthly Start frequency\n",
        "\n",
        "\n",
        "    # Get the data for the last date\n",
        "    last_date_data = product_data.last('1D')\n",
        "\n",
        "    return last_date_data"
      ],
      "metadata": {
        "id": "D2IdPblrni4X"
      },
      "execution_count": 4,
      "outputs": []
    },
    {
      "cell_type": "code",
      "source": [
        "def sales_predictions(predictions, current_value):\n",
        "    \"\"\"\n",
        "    Determine the month with the predicted sales value closest to the current sales value.\n",
        "\n",
        "    Parameters:\n",
        "    - predictions (dict): A dictionary mapping months to their corresponding predicted sales values.\n",
        "    - current_value (float): The current sales value for comparison.\n",
        "\n",
        "    Returns:\n",
        "    - str: The month with the predicted sales value closest to the current sales value.\n",
        "    \"\"\"\n",
        "    # Extract predicted sales values from the dictionary\n",
        "    prediction = list(predictions.values())\n",
        "\n",
        "    # Convert the list to a NumPy array for numerical operations\n",
        "    pred = np.array(prediction)\n",
        "\n",
        "    # Calculate the absolute differences between predicted values and the current value\n",
        "    diff = np.abs(pred - current_value)\n",
        "\n",
        "    # Find the index of the minimum difference\n",
        "    min_diff_index = np.argmin(diff)\n",
        "\n",
        "    # Retrieve the original value associated with the minimum difference\n",
        "    original_value = prediction[min_diff_index]\n",
        "\n",
        "    # Find the month corresponding to the original value\n",
        "    month = [k for k, v in predictions.items() if v == original_value][0]\n",
        "\n",
        "    return month\n"
      ],
      "metadata": {
        "id": "avwz7imdKKxr"
      },
      "execution_count": 5,
      "outputs": []
    },
    {
      "cell_type": "code",
      "source": [
        "import time\n",
        "from datetime import date\n",
        "\n",
        "def pipeline(data, product_name, path_to_models):\n",
        "    \"\"\"\n",
        "    Execute a pipeline to predict sales and determine the best month to buy a specific product.\n",
        "\n",
        "    Parameters:\n",
        "    - data (DataFrame): The input time series data.\n",
        "    - product_name (str): The name of the product for analysis.\n",
        "    - path_to_models (str): Path to the directory containing saved SARIMA model weights.\n",
        "\n",
        "    Returns:\n",
        "    - None: The function prints the result.\n",
        "    \"\"\"\n",
        "    # Step 1: Load SARIMA model weights for all unique products\n",
        "    weights = load_weights(unique_products, path_to_models)\n",
        "\n",
        "    # Create a progress bar with a total count of 4 steps\n",
        "    with tqdm(total=4, desc=\"Predicting Sales\") as pbar:\n",
        "        # Step 2: Get the data for the last date\n",
        "        last_date_data = get_last_date_data(data)\n",
        "        pbar.update(1)  # Update progress bar\n",
        "        time.sleep(1)\n",
        "        # Step 3: Extract the last value of the specified product\n",
        "        last_value_of_product = float(data.loc[data['Products'] == product_name, 'VALUE'][0])\n",
        "        pbar.update(1)  # Update progress bar\n",
        "        time.sleep(1)\n",
        "\n",
        "        # Step 4: Generate sales forecast for the specified product\n",
        "        sales_forecast = save_forecast_results(weights[product_name], steps=12, last_date=str(date.today()))\n",
        "        pbar.update(1)  # Update progress bar\n",
        "        time.sleep(1)\n",
        "\n",
        "        # Step 5: Determine the best month to buy based on the sales forecast\n",
        "        best_month_to_buy = sales_predictions(sales_forecast, last_value_of_product)\n",
        "        pbar.update(1)  # Update progress bar\n",
        "        time.sleep(1)\n",
        "\n",
        "    # Print the result\n",
        "    print(f'\\nThe best month to buy {product_name} is {best_month_to_buy}')\n",
        "\n"
      ],
      "metadata": {
        "id": "yCdRTnA9I84b"
      },
      "execution_count": 12,
      "outputs": []
    },
    {
      "cell_type": "code",
      "source": [
        "import numpy as np\n",
        "import warnings\n",
        "from tqdm import tqdm\n",
        "from joblib import Parallel, delayed\n",
        "\n",
        "# Load your dataset\n",
        "data = pd.read_csv('/content/drive/MyDrive/Intro to ML PR/Project/18100002-trimmed.csv')\n",
        "path_to_models = '/content/drive/MyDrive/Intro to ML PR/Project/Weights'\n",
        "\n",
        "pipeline(data, 'Round steak, 1 kilogram', path_to_models)"
      ],
      "metadata": {
        "colab": {
          "base_uri": "https://localhost:8080/"
        },
        "id": "7Bjf79PIEAAI",
        "outputId": "75374bc5-d6c3-40cc-f045-634afb95355c"
      },
      "execution_count": 14,
      "outputs": [
        {
          "output_type": "stream",
          "name": "stderr",
          "text": [
            "Loading Weights: 100%|██████████| 62/62 [00:03<00:00, 17.52it/s]\n",
            "Predicting Sales: 100%|██████████| 4/4 [00:04<00:00,  1.01s/it]"
          ]
        },
        {
          "output_type": "stream",
          "name": "stdout",
          "text": [
            "\n",
            "The best month to buy Round steak, 1 kilogram is Jan-2024\n"
          ]
        },
        {
          "output_type": "stream",
          "name": "stderr",
          "text": [
            "\n"
          ]
        }
      ]
    }
  ]
}